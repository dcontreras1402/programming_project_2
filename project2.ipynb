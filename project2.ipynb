{
 "cells": [
  {
   "cell_type": "markdown",
   "id": "0b1e7068",
   "metadata": {},
   "source": [
    "### **Integrantes**: Daniel Contreras, Isabella Estupiñan, Antonio Cortes y Roxsana Zuluaga\n"
   ]
  },
  {
   "cell_type": "markdown",
   "id": "55bee4ad",
   "metadata": {},
   "source": [
    "\n",
    "\n",
    "# Análisis\n",
    "\n",
    "## **Objetivo General**\n",
    "\n",
    "Desarrollar una aplicación que permita **gestionar la venta de entradas** en un cine con dos salas (**2D** y **3D**).\n",
    "\n",
    "El sistema debe manejar **clientes, salas, funciones y boletas**, permitiendo **comprar**, **cancelar** y **mostrar disponibilidad** de asientos, aplicando los principios de la **Programación Orientada a Objetos (POO)**.\n",
    "\n",
    "---\n",
    "\n",
    "## **Entradas** (Datos Requeridos)\n",
    "\n",
    "* **Datos del cliente:** nombre, documento, correo, teléfono.\n",
    "* **Selección de la sala:** (2D o 3D).\n",
    "* **Selección de la categoría de la entrada:** (general o preferencial, **solo** para la sala 3D).\n",
    "* **Cantidad de boletas** a comprar.\n",
    "* **Datos para cancelar una compra:** (número o ID de compra).\n",
    "\n",
    "---\n",
    "\n",
    "## **Procesos** (Funcionalidades)\n",
    "\n",
    "1.  **Registrar la información** de las salas y sus asientos disponibles.\n",
    "2.  **Calcular la disponibilidad** antes de confirmar la venta.\n",
    "3.  **Registrar la información** del cliente y la compra.\n",
    "4.  **Calcular el valor total** de la compra según la categoría seleccionada.\n",
    "5.  **Cancelar una compra** y liberar las sillas reservadas.\n",
    "6.  **Mostrar todas las compras** realizadas.\n",
    "7.  **Guardar y cargar la información** desde archivos para mantener la persistencia.\n",
    "\n",
    "---\n",
    "\n",
    "## **Salidas** (Resultados)\n",
    "\n",
    "* **Confirmación de compra** y valor total.\n",
    "* **Listado de compras** realizadas.\n",
    "* **Mensajes de error** si no hay disponibilidad o si los datos son inválidos.\n",
    "* **Estado de las sillas disponibles** en cada sala.\n",
    "* **Confirmación de cancelación** de una compra.\n",
    "\n",
    "---\n",
    "\n",
    "## **Descomposición del Problema** (Modelo POO)\n",
    "\n",
    "| Clase | Responsabilidad Principal |\n",
    "| :--- | :--- |\n",
    "| **Cine** | Administra las salas y coordina las operaciones principales (ventas, cancelaciones, reportes). |\n",
    "| **Sala** (Clase base) | Representa las salas del cine (nombre, capacidad total, sillas ocupadas, precio base). Permite verificar disponibilidad y asignar asientos. |\n",
    "| **Sala3D** (Clase derivada de **Sala**) | Hereda de `Sala` y añade las categorías **general** y **preferencial** con precios distintos. |\n",
    "| **Cliente** | Guarda los datos personales del comprador. |\n",
    "| **Compra** | Registra la información de la transacción: cliente, sala, cantidad de entradas, categoría y valor total. |\n",
    "| **GestorPersistencia** | Se encarga de **guardar y cargar** los datos del sistema en archivos para que no se pierdan al cerrar el programa. |\n",
    "| **main.py** | Interactúa con el usuario, muestra los menús y llama los métodos de las clases para realizar las acciones. |\n",
    "\n",
    "---\n",
    "\n",
    "## **Restricciones**\n",
    "\n",
    "* No se permiten **nombres vacíos** ni **valores negativos**.\n",
    "* No se pueden comprar **más boletas** que la cantidad de sillas disponibles.\n",
    "* Solo se puede **cancelar una compra** que exista en el registro.\n",
    "* Las **categorías** (**general/preferencial**) solo aplican para la **sala 3D**.\n",
    "* La **persistencia de los datos** debe mantenerse entre ejecuciones.\n",
    "\n",
    "---\n",
    "\n",
    "## **Requisitos de Persistencia**\n",
    "\n",
    "El sistema debe **guardar los datos en archivos** (por ejemplo, `.txt` o `.csv`) para mantener un registro de:\n",
    "\n",
    "1.  Las **compras realizadas**.\n",
    "2.  Las **sillas disponibles** en cada sala."
   ]
  },
  {
   "cell_type": "markdown",
   "id": "9a51b5af",
   "metadata": {},
   "source": [
    "# **Diagrama de clases y Flujograma**\n",
    "https://app.diagrams.net/#G1b08jujATRdnO0V8xFCGe8WPfYAkZR3xW#%7B%22pageId%22%3A%22PnFoUdUs3Q-y6U74Zo5R%22%7D"
   ]
  }
 ],
 "metadata": {
  "language_info": {
   "name": "python"
  }
 },
 "nbformat": 4,
 "nbformat_minor": 5
}
